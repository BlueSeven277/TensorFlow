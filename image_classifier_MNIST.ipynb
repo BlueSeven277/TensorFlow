{
 "cells": [
  {
   "cell_type": "code",
   "execution_count": 13,
   "metadata": {},
   "outputs": [],
   "source": [
    "# hand writing numbers regonition\n",
    "# import numpy as np\n",
    "# import matplotlib.pyplot as plt\n",
    "import tensorflow as tf\n",
    "from tensorflow.examples.tutorials.mnist import input_data"
   ]
  },
  {
   "cell_type": "code",
   "execution_count": 14,
   "metadata": {},
   "outputs": [
    {
     "name": "stdout",
     "output_type": "stream",
     "text": [
      "Extracting MNIST_data/train-images-idx3-ubyte.gz\n",
      "Extracting MNIST_data/train-labels-idx1-ubyte.gz\n",
      "Extracting MNIST_data/t10k-images-idx3-ubyte.gz\n",
      "Extracting MNIST_data/t10k-labels-idx1-ubyte.gz\n"
     ]
    }
   ],
   "source": [
    "learn = tf.contrib.learn\n",
    "mnist = input_data.read_data_sets(\"MNIST_data\", one_hot=True)\n",
    "batch_size = 100\n",
    "n_batch = mnist.train.num_examples / batch_size"
   ]
  },
  {
   "cell_type": "code",
   "execution_count": 15,
   "metadata": {},
   "outputs": [],
   "source": [
    "#define place holders\n",
    "x = tf.placeholder(tf.float32,[None,784]) #every picture is 28*28=784 None = 100\n",
    "y = tf.placeholder(tf.float32,[None,10])  #10 labels, one-hot"
   ]
  },
  {
   "cell_type": "code",
   "execution_count": 16,
   "metadata": {},
   "outputs": [],
   "source": [
    "#define neural network\n",
    "W = tf.Variable(tf.zeros([784,10])) #input layer 784 neurals , output 10 nrurals\n",
    "b = tf.Variable(tf.zeros([10]))\n",
    "prediction = tf.nn.softmax(tf.matmul(x,W)+b)"
   ]
  },
  {
   "cell_type": "code",
   "execution_count": 17,
   "metadata": {},
   "outputs": [],
   "source": [
    "#define loss function\n",
    "loss = tf.reduce_mean(tf.square(y-prediction))\n",
    "#use gradient descent\n",
    "train_step = tf.train.GradientDescentOptimizer(0.25).minimize(loss)\n",
    "#initialization\n",
    "init = tf.global_variables_initializer()"
   ]
  },
  {
   "cell_type": "code",
   "execution_count": 19,
   "metadata": {},
   "outputs": [],
   "source": [
    "#evaluation\n",
    "# get label position (10 positions in one-hot in this case) with the highest probability\n",
    "# return True is the y label is same as the prediction label\n",
    "# boolean list\n",
    "correct_prediction = tf.equal(tf.arg_max(y,1),tf.argmax(prediction,1))\n",
    "# change boolean list to float32, true =1, false =0, add together and calculate average as accuracy\n",
    "accuracy = tf.reduce_mean(tf.cast(correct_prediction,tf.float32))"
   ]
  },
  {
   "cell_type": "code",
   "execution_count": 20,
   "metadata": {},
   "outputs": [
    {
     "name": "stdout",
     "output_type": "stream",
     "text": [
      "iterator0, Testing Accuracy 0.8488\n",
      "iterator1, Testing Accuracy 0.8777\n",
      "iterator2, Testing Accuracy 0.8859\n",
      "iterator3, Testing Accuracy 0.8944\n",
      "iterator4, Testing Accuracy 0.8971\n",
      "iterator5, Testing Accuracy 0.9012\n",
      "iterator6, Testing Accuracy 0.9036\n",
      "iterator7, Testing Accuracy 0.9052\n",
      "iterator8, Testing Accuracy 0.9063\n",
      "iterator9, Testing Accuracy 0.9079\n",
      "iterator10, Testing Accuracy 0.9088\n",
      "iterator11, Testing Accuracy 0.9103\n",
      "iterator12, Testing Accuracy 0.9113\n",
      "iterator13, Testing Accuracy 0.9115\n",
      "iterator14, Testing Accuracy 0.9131\n",
      "iterator15, Testing Accuracy 0.9134\n",
      "iterator16, Testing Accuracy 0.9139\n",
      "iterator17, Testing Accuracy 0.9143\n",
      "iterator18, Testing Accuracy 0.9155\n",
      "iterator19, Testing Accuracy 0.9171\n",
      "iterator20, Testing Accuracy 0.9163\n",
      "iterator21, Testing Accuracy 0.9173\n",
      "iterator22, Testing Accuracy 0.9174\n",
      "iterator23, Testing Accuracy 0.9179\n",
      "iterator24, Testing Accuracy 0.9175\n",
      "iterator25, Testing Accuracy 0.9178\n",
      "iterator26, Testing Accuracy 0.9186\n",
      "iterator27, Testing Accuracy 0.9184\n",
      "iterator28, Testing Accuracy 0.9197\n",
      "iterator29, Testing Accuracy 0.92\n",
      "iterator30, Testing Accuracy 0.9195\n",
      "iterator31, Testing Accuracy 0.9188\n",
      "iterator32, Testing Accuracy 0.9195\n",
      "iterator33, Testing Accuracy 0.9197\n",
      "iterator34, Testing Accuracy 0.9205\n",
      "iterator35, Testing Accuracy 0.9202\n",
      "iterator36, Testing Accuracy 0.9212\n",
      "iterator37, Testing Accuracy 0.9213\n",
      "iterator38, Testing Accuracy 0.9211\n",
      "iterator39, Testing Accuracy 0.9212\n",
      "iterator40, Testing Accuracy 0.9215\n",
      "iterator41, Testing Accuracy 0.9219\n",
      "iterator42, Testing Accuracy 0.9223\n",
      "iterator43, Testing Accuracy 0.9219\n",
      "iterator44, Testing Accuracy 0.922\n",
      "iterator45, Testing Accuracy 0.9221\n",
      "iterator46, Testing Accuracy 0.9225\n",
      "iterator47, Testing Accuracy 0.9233\n",
      "iterator48, Testing Accuracy 0.9232\n",
      "iterator49, Testing Accuracy 0.9235\n",
      "iterator50, Testing Accuracy 0.923\n",
      "iterator51, Testing Accuracy 0.9238\n",
      "iterator52, Testing Accuracy 0.9236\n",
      "iterator53, Testing Accuracy 0.9239\n",
      "iterator54, Testing Accuracy 0.9239\n"
     ]
    }
   ],
   "source": [
    "with tf.Session() as sess:\n",
    "    sess.run(init)\n",
    "    for epoch in range (55):\n",
    "        for batch in range(n_batch):\n",
    "            batch_xs, batchys = mnist.train.next_batch(batch_size)\n",
    "            sess.run(train_step,feed_dict={x:batch_xs,y:batchys})\n",
    "        acc = sess.run(accuracy,feed_dict={x:mnist.test.images,y:mnist.test.labels})\n",
    "        print (\"iterator\" + str(epoch)+ \", Testing Accuracy \"+ str(acc))"
   ]
  },
  {
   "cell_type": "code",
   "execution_count": null,
   "metadata": {},
   "outputs": [],
   "source": []
  }
 ],
 "metadata": {
  "kernelspec": {
   "display_name": "Python 2",
   "language": "python",
   "name": "python2"
  },
  "language_info": {
   "codemirror_mode": {
    "name": "ipython",
    "version": 2
   },
   "file_extension": ".py",
   "mimetype": "text/x-python",
   "name": "python",
   "nbconvert_exporter": "python",
   "pygments_lexer": "ipython2",
   "version": "2.7.15"
  }
 },
 "nbformat": 4,
 "nbformat_minor": 2
}
